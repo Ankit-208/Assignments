{
 "cells": [
  {
   "cell_type": "markdown",
   "metadata": {},
   "source": [
    "# Assignment"
   ]
  },
  {
   "cell_type": "markdown",
   "metadata": {},
   "source": [
    "Q1. Write the Python class to convert an integer to a roman numeral?"
   ]
  },
  {
   "cell_type": "code",
   "execution_count": 24,
   "metadata": {},
   "outputs": [
    {
     "name": "stdout",
     "output_type": "stream",
     "text": [
      "CLV\n"
     ]
    }
   ],
   "source": [
    "class Convert:\n",
    "    def int_to_roman(self,num):\n",
    "        sym=['M','CM','D','CD','C','XC','L','XL','X','IX','V','IV','I']\n",
    "        val=[1000,900,500,400,100,90,50,40,10,9,5,4,1]\n",
    "        result=''\n",
    "        i=0\n",
    "        while num>0:\n",
    "            for _ in range(num//val[i]):\n",
    "                result=result+sym[i]\n",
    "                num=num-val[i]\n",
    "            i+=1\n",
    "        return result\n",
    "\n",
    "print(Convert().int_to_roman(155))"
   ]
  },
  {
   "cell_type": "markdown",
   "metadata": {},
   "source": [
    "Q2 Write the Python class to convert a Roman numeral to an integer?\n"
   ]
  },
  {
   "cell_type": "code",
   "execution_count": 23,
   "metadata": {},
   "outputs": [
    {
     "name": "stdout",
     "output_type": "stream",
     "text": [
      "154\n"
     ]
    }
   ],
   "source": [
    "class Convert:\n",
    "    def roman_to_int(self,s):\n",
    "            rom_val = {'I': 1, 'V': 5, 'X': 10, 'L': 50, 'C': 100, 'D': 500, 'M': 1000}\n",
    "            int_val = 0\n",
    "            for i in range(len(s)):\n",
    "                if i > 0 and rom_val[s[i]] > rom_val[s[i - 1]]:\n",
    "                    int_val += rom_val[s[i]] - 2 * rom_val[s[i - 1]]\n",
    "                else:\n",
    "                    int_val += rom_val[s[i]]\n",
    "            return int_val\n",
    "\n",
    "print(Convert().roman_to_int('CLIV'))"
   ]
  },
  {
   "cell_type": "markdown",
   "metadata": {},
   "source": [
    "Q3. Write the Python class to find the validity of the string of the\n",
    "parentheses, '(', ')', '{', '}', '[' and '] and the brackets must be closed\n",
    "in the correct order, example - \"()\" and \"()[]{}\" are valid but \"[)\",\n",
    "\"({[)]\" and \"{{{\" are invalid.\n"
   ]
  },
  {
   "cell_type": "code",
   "execution_count": 34,
   "metadata": {},
   "outputs": [
    {
     "name": "stdout",
     "output_type": "stream",
     "text": [
      "True\n",
      "False\n",
      "False\n"
     ]
    }
   ],
   "source": [
    "class Check:\n",
    "    def validate(self,s):\n",
    "        pvalue={\"(\": \")\", \"{\": \"}\", \"[\": \"]\"}\n",
    "        for i in range(0,len(s)-1,2):\n",
    "            if (s[i] in pvalue) & (s[i+1]!=pvalue[s[i]]):\n",
    "                return False\n",
    "        return True    \n",
    "                \n",
    "print(Check().validate(\"(){}[]\"))        \n",
    "print(Check().validate(\"()[{)}\"))  \n",
    "print(Check().validate(\"(){}[(])\"))  \n",
    "    "
   ]
  },
  {
   "cell_type": "markdown",
   "metadata": {},
   "source": [
    "Q4. Write the Python class to get all possible unique subsets from a set\n",
    "of distinct integers?\n",
    "\n",
    "    Input - [4, 5, 6]\n",
    "    Output - [[], [6], [5], [5, 6], [4], [4, 6], [4, 5], [4, 5, 6]]"
   ]
  },
  {
   "cell_type": "code",
   "execution_count": 45,
   "metadata": {},
   "outputs": [
    {
     "name": "stdout",
     "output_type": "stream",
     "text": [
      "[(), (4,), (5,), (6,), (4, 5), (4, 6), (5, 6), (4, 5, 6)]\n"
     ]
    }
   ],
   "source": [
    "import itertools \n",
    "\n",
    "class Subset:  \n",
    "    def findsubsets(s, n): \n",
    "        return list(itertools.combinations(s, n)) \n",
    "  \n",
    " \n",
    "\n",
    "s = [4,5,6]\n",
    "\n",
    "output_lst =[]\n",
    "for i in range(len(s)+1):\n",
    "    output_lst.extend(list(Subset.findsubsets(s,i)))\n",
    "\n",
    "print(output_lst)"
   ]
  },
  {
   "cell_type": "markdown",
   "metadata": {},
   "source": [
    "Q5. Write the Python class to find a pair of elements (indices of the two\n",
    "numbers) from a given array whose sum equals the specific target\n",
    "number?\n",
    "\n",
    "    Input: numbers- [10,20,10,40,50,60,70], target=50\n",
    "    Output- 3, 4"
   ]
  },
  {
   "cell_type": "code",
   "execution_count": 64,
   "metadata": {},
   "outputs": [
    {
     "name": "stdout",
     "output_type": "stream",
     "text": [
      "0 3\n",
      "2 3\n"
     ]
    }
   ],
   "source": [
    "class Pair:\n",
    "    def pair_finder(self,lst,target):\n",
    "        for i in range(len(lst)):\n",
    "            for j in range(i,len(lst)):\n",
    "                if lst[i]+lst[j]==target:\n",
    "                    print(i,j)\n",
    "                    \n",
    "number=[10,20,10,40,50,60,70]\n",
    "target=50\n",
    "Pair().pair_finder(number,target)"
   ]
  },
  {
   "cell_type": "markdown",
   "metadata": {},
   "source": [
    "Q6. Write the Python class to find the three elements that sum to zero\n",
    "from the set of n real numbers?\n",
    "\n",
    "    Input array- [-25, -10, -7, -3, 2, 4, 8, 10]\n",
    "    Output - [[-10, 2, 8], [-7, -3, 10]]\n"
   ]
  },
  {
   "cell_type": "code",
   "execution_count": 63,
   "metadata": {},
   "outputs": [
    {
     "name": "stdout",
     "output_type": "stream",
     "text": [
      "[[-10, 2, 8], [-7, -3, 10]]\n"
     ]
    }
   ],
   "source": [
    "class Sum:\n",
    "    def sum_zero(self,ary):\n",
    "        result=[]\n",
    "        for i in range(len(ary)):\n",
    "            for j in range(i+1,len(ary)):\n",
    "                for k in range(j+1,len(ary)):\n",
    "                    if ary[i]+ary[j]+ary[k]==0:\n",
    "                        result.append([ary[i],ary[j],ary[k]])\n",
    "        return result   \n",
    "\n",
    "                    \n",
    "Input_array = [-25, -10, -7, -3, 2, 4, 8, 10]\n",
    "print(Sum().sum_zero(Input_array))"
   ]
  },
  {
   "cell_type": "markdown",
   "metadata": {},
   "source": [
    "Q7. Write the Python class to implement pow(x, n)?"
   ]
  },
  {
   "cell_type": "code",
   "execution_count": 65,
   "metadata": {},
   "outputs": [
    {
     "name": "stdout",
     "output_type": "stream",
     "text": [
      "125\n"
     ]
    }
   ],
   "source": [
    "class Power:\n",
    "    def display(self,x,n):\n",
    "        return x**n\n",
    "print(Power().display(5,3))"
   ]
  },
  {
   "cell_type": "markdown",
   "metadata": {},
   "source": [
    "Q8. Write the Python class which has two methods get_String and\n",
    "print_String. get_String accept the string from the user and \n",
    "print_String print the string in upper case."
   ]
  },
  {
   "cell_type": "code",
   "execution_count": 74,
   "metadata": {},
   "outputs": [
    {
     "name": "stdout",
     "output_type": "stream",
     "text": [
      "Ankit\n",
      "ANKIT\n"
     ]
    }
   ],
   "source": [
    "class Pstring:\n",
    "    def __init__(self):\n",
    "        self.str=''\n",
    "        \n",
    "    def get_String(self):\n",
    "        self.str=input()\n",
    "        \n",
    "    def print_string(self):\n",
    "        print(self.str.upper())\n",
    "p=Pstring()\n",
    "p.get_String()\n",
    "p.print_string()"
   ]
  },
  {
   "cell_type": "markdown",
   "metadata": {},
   "source": [
    "Q9. Write the Python class named Rectangle constructed by a length\n",
    "and width and the method which will compute the area of the\n",
    "rectangle?"
   ]
  },
  {
   "cell_type": "code",
   "execution_count": 76,
   "metadata": {},
   "outputs": [
    {
     "name": "stdout",
     "output_type": "stream",
     "text": [
      "40\n"
     ]
    }
   ],
   "source": [
    "class Rectangle:\n",
    "    def __init__(self,l,w):\n",
    "        self.l=l\n",
    "        self.w=w\n",
    "    def area(self):\n",
    "        return self.l*self.w\n",
    "\n",
    "r=Rectangle(5,8)\n",
    "print(r.area())"
   ]
  },
  {
   "cell_type": "markdown",
   "metadata": {},
   "source": [
    "Q10. Write the Python class named Circle constructed by the radius\n",
    "and two methods which will compute the area and perimeter of\n",
    "the circle?"
   ]
  },
  {
   "cell_type": "code",
   "execution_count": 78,
   "metadata": {},
   "outputs": [
    {
     "name": "stdout",
     "output_type": "stream",
     "text": [
      "78.5\n",
      "31.400000000000002\n"
     ]
    }
   ],
   "source": [
    "class Circle:\n",
    "    def __init__(self,r):\n",
    "        self.r=r\n",
    "    def area(self):\n",
    "        return 3.14*self.r*self.r\n",
    "    def perimeter(self):\n",
    "        return 2*3.14*self.r\n",
    "\n",
    "c=Circle(5)\n",
    "print(c.area())\n",
    "print(c.perimeter())"
   ]
  },
  {
   "cell_type": "markdown",
   "metadata": {},
   "source": [
    "Q11. Write the Python program to get the class name of an instance in\n",
    "Python?"
   ]
  },
  {
   "cell_type": "code",
   "execution_count": 82,
   "metadata": {},
   "outputs": [
    {
     "name": "stdout",
     "output_type": "stream",
     "text": [
      "Circle\n"
     ]
    }
   ],
   "source": [
    "class Circle:\n",
    "    def __init__(self,r):\n",
    "        self.r=r\n",
    "    def area(self):\n",
    "        return 3.14*self.r*self.r\n",
    "    def perimeter(self):\n",
    "        return 2*3.14*self.r\n",
    "\n",
    "c=Circle(5)\n",
    "print(type(c).__name__)"
   ]
  },
  {
   "cell_type": "markdown",
   "metadata": {},
   "source": [
    "Q12. Write the Python program to count the number of students of\n",
    "individual class?\n",
    "\n",
    "    Sample dataclasses = (\n",
    "    ('V', 1),\n",
    "    ('VI', 1),\n",
    "    ('V', 2),\n",
    "    ('VI', 2),\n",
    "    ('VI', 3),\n",
    "    ('VII', 1),\n",
    "    )\n",
    "    Expected OutputCounter({'VI': 3, 'V': 2, 'VII': 1})"
   ]
  },
  {
   "cell_type": "code",
   "execution_count": 86,
   "metadata": {},
   "outputs": [
    {
     "name": "stdout",
     "output_type": "stream",
     "text": [
      "{'V': 2, 'VI': 3, 'VII': 1}\n"
     ]
    }
   ],
   "source": [
    "# from collections import Counter\n",
    "classes = (('V', 1),('VI', 1),('V', 2),('VI', 2),('VI', 3),('VII', 1),)\n",
    "# students = Counter(class_name for class_name, no_students in classes)\n",
    "# print(students)\n",
    "counter={}\n",
    "for c in classes:\n",
    "    if c[0] in counter:\n",
    "        counter[c[0]]+=1\n",
    "    else:\n",
    "        counter[c[0]]=1\n",
    "print(counter)"
   ]
  },
  {
   "cell_type": "markdown",
   "metadata": {},
   "source": [
    "## Great Job!"
   ]
  }
 ],
 "metadata": {
  "kernelspec": {
   "display_name": "Python 3",
   "language": "python",
   "name": "python3"
  },
  "language_info": {
   "codemirror_mode": {
    "name": "ipython",
    "version": 3
   },
   "file_extension": ".py",
   "mimetype": "text/x-python",
   "name": "python",
   "nbconvert_exporter": "python",
   "pygments_lexer": "ipython3",
   "version": "3.7.3"
  }
 },
 "nbformat": 4,
 "nbformat_minor": 2
}
