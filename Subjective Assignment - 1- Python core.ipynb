{
 "cells": [
  {
   "cell_type": "markdown",
   "metadata": {},
   "source": [
    "Q1. Write a Python program to get the string from the given string where\n",
    "all the occurrence of its first char has been changed to '$,' except first\n",
    "char itself?\n",
    "\n",
    "    Sample String: 'prospect'\n",
    "    Expected Result : 'pros$ect'\n"
   ]
  },
  {
   "cell_type": "code",
   "execution_count": 7,
   "metadata": {},
   "outputs": [
    {
     "name": "stdout",
     "output_type": "stream",
     "text": [
      "prospect\n",
      "pros$ect\n"
     ]
    }
   ],
   "source": [
    "str=input()\n",
    "new_str=[]\n",
    "for i in str:\n",
    "    if i in new_str:\n",
    "        new_str.append('$')\n",
    "    else:\n",
    "        new_str.append(i)\n",
    "print(''.join(new_str))\n",
    "    "
   ]
  },
  {
   "cell_type": "markdown",
   "metadata": {},
   "source": [
    "Q2. Write a Python program to get the single string from the two given\n",
    "strings, and separated by the space and swap the first two characters of\n",
    "each string?\n",
    "\n",
    "    Sample String : 'abc', 'xyz'.\n",
    "    Expected Result: 'xyc abz'"
   ]
  },
  {
   "cell_type": "code",
   "execution_count": 11,
   "metadata": {},
   "outputs": [
    {
     "name": "stdout",
     "output_type": "stream",
     "text": [
      "abc,xyz\n",
      "xyc abz\n"
     ]
    }
   ],
   "source": [
    "str1,str2=input().split(',')\n",
    "str1=list(str1)\n",
    "str2=list(str2)\n",
    "str1[0:2],str2[0:2]=str2[0:2],str1[0:2]\n",
    "print(''.join(str1)+' '+''.join(str2))"
   ]
  },
  {
   "cell_type": "markdown",
   "metadata": {},
   "source": [
    "Q3. Write the Python program to add 'ing' at the end of the given string\n",
    "(length of the string should be at least 3). If given string already ends\n",
    "with 'ing,' then add 'ly' instead. If string length of the given string is less\n",
    "than 3, leave it unchanged?\n",
    "\n",
    "\n",
    "    Sample string: ' abc '\n",
    "    Expected result: ' abcing '\n",
    "    Sample string: ' string '\n",
    "    Expected result: ' stringly '\n"
   ]
  },
  {
   "cell_type": "code",
   "execution_count": 17,
   "metadata": {},
   "outputs": [
    {
     "name": "stdout",
     "output_type": "stream",
     "text": [
      "abc\n",
      "abcing\n"
     ]
    }
   ],
   "source": [
    "str=input()\n",
    "if len(str)<3:\n",
    "    print(str)\n",
    "elif 'ing' in str:\n",
    "    print(str+'ly')\n",
    "else:\n",
    "    print(str+'ing')"
   ]
  },
  {
   "cell_type": "markdown",
   "metadata": {},
   "source": [
    "Q4. Write the Python program to find the first appearance of the\n",
    "substring 'not' and 'poor' from the given string, if 'not' follows the 'poor',\n",
    "replace the whole 'not'...' poor' substring with 'good'.Return the resulting\n",
    "string.\n",
    "\n",
    "    Sample string: 'The lyrics are not that poor!'\n",
    "    'The lyrics are poor!'\n",
    "    Expected Result: 'The lyrics are good!'\n",
    "    'The lyrics are poor!'"
   ]
  },
  {
   "cell_type": "code",
   "execution_count": 2,
   "metadata": {},
   "outputs": [
    {
     "name": "stdout",
     "output_type": "stream",
     "text": [
      "'The lyrics are not that poor!' 'The lyrics are poor!'\n",
      "'The lyrics are good!' 'The lyrics are poor!'\n"
     ]
    }
   ],
   "source": [
    "str=input()\n",
    "if 'not' in str and 'poor' in str:\n",
    "    not_post=str.find('not')\n",
    "    poor_post=str.find('poor')\n",
    "    if not_post <poor_post:\n",
    "        print(str[:not_post] +'good' +str[poor_post+4:])\n",
    "    else:\n",
    "         print(str)\n",
    "else:\n",
    "    print(str)\n"
   ]
  },
  {
   "cell_type": "markdown",
   "metadata": {},
   "source": [
    "Q5. Write the Python program to remove the characters which have odd\n",
    "index values of a given string."
   ]
  },
  {
   "cell_type": "code",
   "execution_count": 26,
   "metadata": {},
   "outputs": [
    {
     "name": "stdout",
     "output_type": "stream",
     "text": [
      "Ankit Agarwal\n",
      "AktAawl\n"
     ]
    }
   ],
   "source": [
    "str=input()\n",
    "print(str[0::2])"
   ]
  },
  {
   "cell_type": "markdown",
   "metadata": {},
   "source": [
    "Q6. Write the python program to print the following floating numbers up\n",
    "to 2 decimal places?"
   ]
  },
  {
   "cell_type": "code",
   "execution_count": 33,
   "metadata": {},
   "outputs": [
    {
     "name": "stdout",
     "output_type": "stream",
     "text": [
      "5.00\n",
      "5.00\n"
     ]
    }
   ],
   "source": [
    "num=int(input())\n",
    "print('{0:.2f}'.format(num))\n"
   ]
  },
  {
   "cell_type": "markdown",
   "metadata": {},
   "source": [
    "Q7. Write the Python program to format a number with a percentage?"
   ]
  },
  {
   "cell_type": "code",
   "execution_count": 32,
   "metadata": {},
   "outputs": [
    {
     "name": "stdout",
     "output_type": "stream",
     "text": [
      "0.30\n",
      "30.00%\n"
     ]
    }
   ],
   "source": [
    "num=float(input())\n",
    "print('{0:.2%}'.format(num))"
   ]
  },
  {
   "cell_type": "markdown",
   "metadata": {},
   "source": [
    "Q8. Write the Python program to count occurrences of a substring in a\n",
    "String?"
   ]
  },
  {
   "cell_type": "code",
   "execution_count": 37,
   "metadata": {},
   "outputs": [
    {
     "name": "stdout",
     "output_type": "stream",
     "text": [
      "hello buddy is string repeating buddy\n",
      "{'hello': 1, 'buddy': 2, 'is': 1, 'string': 1, 'repeating': 1}\n"
     ]
    }
   ],
   "source": [
    "str=input().split(' ')\n",
    "print({i:str.count(i) for i in str})"
   ]
  },
  {
   "cell_type": "markdown",
   "metadata": {},
   "source": [
    "Q9. Write the Python program to count repeated characters in a string.\n",
    "\n",
    "    Sample string: ' thequickbrownjumpsoverthelazydog '\n",
    "    \n",
    "    Expected output:\n",
    "    o 3\n",
    "    e 3\n",
    "    u 2\n",
    "    h 2\n",
    "    r 2\n",
    "    t 2"
   ]
  },
  {
   "cell_type": "code",
   "execution_count": 42,
   "metadata": {},
   "outputs": [
    {
     "name": "stdout",
     "output_type": "stream",
     "text": [
      " thequickbrownjumpsoverthelazydog\n",
      "{'t': 2, 'h': 2, 'e': 3, 'u': 2, 'r': 2, 'o': 3}\n"
     ]
    }
   ],
   "source": [
    "str=input()\n",
    "print({i:str.count(i) for i in str if str.count(i)>1})"
   ]
  },
  {
   "cell_type": "markdown",
   "metadata": {},
   "source": [
    "Q10. Write the Python program to print the square and cube symbol in\n",
    "the area of a rectangle and volume of a cylinder?\n",
    "\n",
    "    Sample outputThe area of the rectangle is 1256.66cm2\n",
    "    The volume of the cylinder is 1254.725cm3\n"
   ]
  },
  {
   "cell_type": "code",
   "execution_count": 43,
   "metadata": {},
   "outputs": [
    {
     "name": "stdout",
     "output_type": "stream",
     "text": [
      "The area of the rectangle is 1256.66cm²\n",
      "The volume of the cylinder is 1254.725cm³\n"
     ]
    }
   ],
   "source": [
    "print('The area of the rectangle is 1256.66cm\\u00b2')\n",
    "print('The volume of the cylinder is 1254.725cm\\u00b3')"
   ]
  },
  {
   "cell_type": "markdown",
   "metadata": {},
   "source": [
    "Q11. Write the Python program to check if a string contains all letters of\n",
    "the alphabet?"
   ]
  },
  {
   "cell_type": "code",
   "execution_count": 49,
   "metadata": {},
   "outputs": [
    {
     "name": "stdout",
     "output_type": "stream",
     "text": [
      "The quick onyx goblin jumps over the lazy dwarf\n",
      "all letter of alphabets present\n"
     ]
    }
   ],
   "source": [
    "str=input()\n",
    "check_set=set(str.lower())  #to remove duplicate letters\n",
    "check_set.remove(' ')    #remove space in sentence\n",
    "if len(check_set)==26:\n",
    "    print('all letter of alphabets present')\n",
    "else:\n",
    "    print('not all letters of alphabets present')"
   ]
  },
  {
   "cell_type": "markdown",
   "metadata": {},
   "source": [
    "Q12. Write the Python program to find the second most repeated word\n",
    "in a given string?"
   ]
  },
  {
   "cell_type": "code",
   "execution_count": 8,
   "metadata": {},
   "outputs": [
    {
     "name": "stdout",
     "output_type": "stream",
     "text": [
      "Hi i am ankit i i ankit\n",
      "ankit\n"
     ]
    }
   ],
   "source": [
    "str=input().split()\n",
    "word_count=dict()\n",
    "word_count={i:str.count(i) for i in str}\n",
    "data=list(word_count.values())\n",
    "\n",
    "sec_max=sorted(data)[-2]\n",
    "for key,value in word_count.items():\n",
    "    if value==sec_max:\n",
    "        print(key)"
   ]
  },
  {
   "cell_type": "markdown",
   "metadata": {},
   "source": [
    "Q13. Write the Python program to find the minimum window in the given\n",
    "string, which will contains all the characters of another given\n",
    "strings?\n",
    "\n",
    "    Example 1\n",
    "    Input : string1 = \" PRWSOERIUSFK \"\n",
    "    string2 = \" OSU \"\n",
    "    Output: Minimum window is \"OERIUS\""
   ]
  },
  {
   "cell_type": "code",
   "execution_count": 10,
   "metadata": {},
   "outputs": [
    {
     "name": "stdout",
     "output_type": "stream",
     "text": [
      "PRWSOERIUSFK\n",
      "OSU\n",
      "OERIUS\n"
     ]
    }
   ],
   "source": [
    "str1=input()\n",
    "str2=input()\n",
    "\n",
    "first_letter_pos=str1.find(str2[0])\n",
    "min_window=[]\n",
    "str2_list=list(str2)\n",
    "for i in str1[first_letter_pos:]:\n",
    "    if len(str2_list)==0:\n",
    "        break\n",
    "    min_window.append(i)\n",
    "    if i in str2_list:\n",
    "        str2_list.remove(i)\n",
    "\n",
    "print(''.join(min_window))\n",
    "    "
   ]
  },
  {
   "cell_type": "markdown",
   "metadata": {},
   "source": [
    "Q14. Write the Python program to count number of substrings from a\n",
    "given string of lowercase alphabets with exactly k distinct (given)\n",
    "characters?\n",
    "\n",
    "    Input a string (lowercase alphabets): wolf\n",
    "    Input k: 4\n",
    "    Number of substrings with exactly 4 distinct characters: 1"
   ]
  },
  {
   "cell_type": "code",
   "execution_count": 15,
   "metadata": {},
   "outputs": [
    {
     "name": "stdout",
     "output_type": "stream",
     "text": [
      "Enter string -->wolf\n",
      "Enter value of k -->4\n",
      "Number of substrings with exactly 4 distinct characters: 1\n"
     ]
    }
   ],
   "source": [
    "str1 = input('Enter string -->').lower().split(' ')\n",
    "k = int(input('Enter value of k -->'))\n",
    "count = 0\n",
    "for i in str1:\n",
    "    if len(i)==k & len(set(list(i)))==k:\n",
    "        count =count+1\n",
    "print('Number of substrings with exactly {} distinct characters: {}'.format(k,count))"
   ]
  },
  {
   "cell_type": "markdown",
   "metadata": {},
   "source": [
    "Q15. Write the Python program to count number of substrings with same\n",
    "first and last characters of the given string?\n",
    "\n",
    "    Input a string: abcd\n",
    "    4\n"
   ]
  },
  {
   "cell_type": "code",
   "execution_count": 16,
   "metadata": {},
   "outputs": [
    {
     "name": "stdout",
     "output_type": "stream",
     "text": [
      "Enter string -->abcd\n",
      "4\n"
     ]
    }
   ],
   "source": [
    "def countSubstringWithEqualEnds(s): \n",
    "    result = 0 \n",
    "    n = len(s) \n",
    "    for i in range(n): \n",
    "        for j in range(i, n): \n",
    "            if (s[i] == s[j]): \n",
    "                result = result + 1\n",
    "  \n",
    "    return result \n",
    "  \n",
    "s = input('Enter string -->')\n",
    "print(countSubstringWithEqualEnds(s))"
   ]
  },
  {
   "cell_type": "markdown",
   "metadata": {},
   "source": [
    "## Great Job!"
   ]
  }
 ],
 "metadata": {
  "kernelspec": {
   "display_name": "Python 3",
   "language": "python",
   "name": "python3"
  },
  "language_info": {
   "codemirror_mode": {
    "name": "ipython",
    "version": 3
   },
   "file_extension": ".py",
   "mimetype": "text/x-python",
   "name": "python",
   "nbconvert_exporter": "python",
   "pygments_lexer": "ipython3",
   "version": "3.7.3"
  }
 },
 "nbformat": 4,
 "nbformat_minor": 2
}
