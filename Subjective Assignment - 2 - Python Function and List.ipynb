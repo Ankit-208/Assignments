{
 "cells": [
  {
   "cell_type": "markdown",
   "metadata": {},
   "source": [
    "# Assignments"
   ]
  },
  {
   "cell_type": "markdown",
   "metadata": {},
   "source": [
    "Q1. Write the Python function to get a string made of 4 copies of the last\n",
    "two characters of the specified string (length must be at least 2).\n",
    "\n",
    "    Sample function and result :\n",
    "    insert-end ('Python') -> abababab\n",
    "    insert-end('Exercises') -> jkjkjkjk"
   ]
  },
  {
   "cell_type": "code",
   "execution_count": 6,
   "metadata": {},
   "outputs": [
    {
     "name": "stdout",
     "output_type": "stream",
     "text": [
      "Enter data -->python\n",
      "insert-end('python') -> onononon\n"
     ]
    }
   ],
   "source": [
    "def insert_end(str):\n",
    "    return 4*str[-2::1]\n",
    "\n",
    "str=input('Enter data -->')\n",
    "print('insert-end(\\'{}\\') ->'.format(str),insert_end(str))"
   ]
  },
  {
   "cell_type": "markdown",
   "metadata": {},
   "source": [
    "Q2. Write the python function to get a string made of its first three\n",
    "characters of a specified string. If the length of the string is less than 3\n",
    "then return the original string.\n",
    "    \n",
    "    Sample function and result :\n",
    "    first-three('ipy') -> ipy\n",
    "    first-three('python') -> pyt"
   ]
  },
  {
   "cell_type": "code",
   "execution_count": 8,
   "metadata": {},
   "outputs": [
    {
     "name": "stdout",
     "output_type": "stream",
     "text": [
      "Enter string-->python\n",
      "first_three('python') -> pyt\n"
     ]
    }
   ],
   "source": [
    "def first_three(str):\n",
    "    return str[0:3]\n",
    "\n",
    "str=input('Enter string-->')\n",
    "print('first_three(\\'{}\\') ->'.format(str),first_three(str))"
   ]
  },
  {
   "cell_type": "markdown",
   "metadata": {},
   "source": [
    "Q3. Write the Python program to find smallest window that contains all\n",
    "characters of the given string?\n",
    "\n",
    "    Original Strings:\n",
    "    asdaewsqgtwwsa\n",
    "    Smallest window that contains all characters of the said string:\n",
    "    Daewsqgt"
   ]
  },
  {
   "cell_type": "code",
   "execution_count": 27,
   "metadata": {},
   "outputs": [
    {
     "name": "stdout",
     "output_type": "stream",
     "text": [
      "asdaewsqgtwwsa\n",
      "Smallest window that contains all characters of the said string:\n",
      " daewsqgt\n"
     ]
    }
   ],
   "source": [
    "#initially divide entrire string into small sub-string whose length is equal to unique length(ie no of unique letters)\n",
    "#compare length of this substring with actual unique length, if it does not match then try increasing lenth of sub string by one\n",
    "#and so on...\n",
    "min_window=[]\n",
    "original_string=input()\n",
    "original_len=len(original_string)\n",
    "unique_len=len(set(original_string))\n",
    "count=0\n",
    "\n",
    "if original_len > unique_len:\n",
    "    range_value = original_len-unique_len\n",
    "else:\n",
    "    range_value = original_len\n",
    "    \n",
    "while count<unique_len:\n",
    "    for i in range(range_value):\n",
    "        if len(set(original_string[i:i+unique_len+count]))==unique_len:   #comparing substring of unique-length with actual unique length\n",
    "            print('Smallest window that contains all characters of the said string:\\n',original_string[i:i+unique_len])\n",
    "            count=count+unique_len\n",
    "            break\n",
    "    count=count+1"
   ]
  },
  {
   "cell_type": "markdown",
   "metadata": {},
   "source": [
    "Q4. Write the Python program to count number of substrings from a\n",
    "given string of lowercase alphabets with exactly k distinct (given)\n",
    "characters?\n",
    "\n",
    "    Input a string (lowercase alphabets): wolf\n",
    "    Input k: 4\n",
    "    Number of substrings with exactly 4 distinct characters: 1"
   ]
  },
  {
   "cell_type": "code",
   "execution_count": 25,
   "metadata": {},
   "outputs": [
    {
     "name": "stdout",
     "output_type": "stream",
     "text": [
      "wolf\n",
      "4\n",
      "Number of substrings with exactly 4 distinct characters : 1\n"
     ]
    }
   ],
   "source": [
    "def dist_char(str,k):\n",
    "    org_len=len(str)\n",
    "    unique_len=len(set(str))\n",
    "    result=0\n",
    "    \n",
    "    if org_len > unique_len:\n",
    "        range_value = org_len-unique_len\n",
    "    else:\n",
    "        range_value = org_len\n",
    "    \n",
    "    for i in range(range_value):\n",
    "        if len(set(str[i:i+unique_len]))==unique_len:\n",
    "            result=result+1\n",
    "    return result\n",
    "\n",
    "str=input().lower()\n",
    "k=int(input())\n",
    "print('Number of substrings with exactly {} distinct characters :'.format(k),dist_char(str,k))"
   ]
  },
  {
   "cell_type": "markdown",
   "metadata": {},
   "source": [
    "Q5. Write the Python program to count number of non-empty\n",
    "substrings of the given string?\n",
    "\n",
    "    Input a string: w3resource\n",
    "    Number of substrings:\n",
    "    55"
   ]
  },
  {
   "cell_type": "code",
   "execution_count": 28,
   "metadata": {},
   "outputs": [
    {
     "name": "stdout",
     "output_type": "stream",
     "text": [
      "w3resource\n",
      "Number of substring 55\n"
     ]
    }
   ],
   "source": [
    "str=input()\n",
    "n=len(str)\n",
    "print('Number of substring',int((n*(n+1)/2)))"
   ]
  },
  {
   "cell_type": "markdown",
   "metadata": {},
   "source": [
    "Q6. Write the Python program to count the number of strings where the\n",
    "string length is 2 or more, and first and last character are same\n",
    "from a given list of strings.\n",
    "\n",
    "    Sample List : ['abc', 'xyz', 'wxw', '1331']\n",
    "    Expected Result: 2"
   ]
  },
  {
   "cell_type": "code",
   "execution_count": 29,
   "metadata": {},
   "outputs": [
    {
     "name": "stdout",
     "output_type": "stream",
     "text": [
      "2\n"
     ]
    }
   ],
   "source": [
    "str=['abc', 'xyz', 'wxw', '1331']\n",
    "result=0\n",
    "for i in str:\n",
    "    if (len(i)>=2) & (i[0]==i[-1]):\n",
    "        result=result+1\n",
    "print(result)"
   ]
  },
  {
   "cell_type": "markdown",
   "metadata": {},
   "source": [
    "Q7. Write the Python program to get a list, sorted in increasing order by\n",
    "the last element in each tuple from the given list of non-empty\n",
    "tuples?\n",
    "\n",
    "    Sample List - [ (2, 5), (1, 2), (4, 4), (2, 3), (2, 1) ]\n",
    "    Expected Result - [ (2, 1), (1, 2), (2, 3), (4, 4), (2, 5) ]"
   ]
  },
  {
   "cell_type": "code",
   "execution_count": 32,
   "metadata": {},
   "outputs": [
    {
     "name": "stdout",
     "output_type": "stream",
     "text": [
      "[(2, 1), (1, 2), (2, 3), (4, 4), (2, 5)]\n"
     ]
    }
   ],
   "source": [
    "def last(n): return n[-1]\n",
    "lst=[ (2, 5), (1, 2), (4, 4), (2, 3), (2, 1) ]\n",
    "print(sorted(lst,key=last))"
   ]
  },
  {
   "cell_type": "markdown",
   "metadata": {},
   "source": [
    "Q8. Write the Python program to remove duplicates from a list?"
   ]
  },
  {
   "cell_type": "code",
   "execution_count": 33,
   "metadata": {},
   "outputs": [
    {
     "name": "stdout",
     "output_type": "stream",
     "text": [
      "[70, 40, 10, 80, 50, 20, 60, 30]\n"
     ]
    }
   ],
   "source": [
    "lst = [10,20,30,20,10,50,60,40,80,50,40,20,40,70]\n",
    "print(list(set(lst)))"
   ]
  },
  {
   "cell_type": "markdown",
   "metadata": {},
   "source": [
    "Q9. Write the Python program to find the list of words that are longer\n",
    "than n from a given list of words?"
   ]
  },
  {
   "cell_type": "code",
   "execution_count": 34,
   "metadata": {},
   "outputs": [
    {
     "name": "stdout",
     "output_type": "stream",
     "text": [
      "Enter words separted by comma ankit,agarwal,python,data,science,deep,learning\n",
      "enter length 5\n",
      "['agarwal', 'python', 'science', 'learning']\n"
     ]
    }
   ],
   "source": [
    "str=input('Enter words separted by comma ').split(',')\n",
    "n=int(input('enter length '))\n",
    "print([i for i in str if len(i)>n])"
   ]
  },
  {
   "cell_type": "markdown",
   "metadata": {},
   "source": [
    "Q10. Write the Python program to print a specified list after removing the\n",
    "0th, 4th, and 5th elements?\n",
    "    \n",
    "    Sample List - ['Red', 'Green', 'White', 'Black', 'Pink', 'Yellow']\n",
    "    Expected Output - ['Green', 'White', 'Black']"
   ]
  },
  {
   "cell_type": "code",
   "execution_count": 37,
   "metadata": {},
   "outputs": [
    {
     "name": "stdout",
     "output_type": "stream",
     "text": [
      "['Green', 'White', 'Black']\n"
     ]
    }
   ],
   "source": [
    "lst=['Red', 'Green', 'White', 'Black', 'Pink', 'Yellow']\n",
    "print([i for count,i in enumerate(lst) if count not in [0,4,5]])"
   ]
  },
  {
   "cell_type": "markdown",
   "metadata": {},
   "source": [
    "Q11. Write the Python program to generate all permutations of a list in\n",
    "Python?"
   ]
  },
  {
   "cell_type": "code",
   "execution_count": 38,
   "metadata": {},
   "outputs": [
    {
     "name": "stdout",
     "output_type": "stream",
     "text": [
      "[(1, 2, 3, 5), (1, 2, 5, 3), (1, 3, 2, 5), (1, 3, 5, 2), (1, 5, 2, 3), (1, 5, 3, 2), (2, 1, 3, 5), (2, 1, 5, 3), (2, 3, 1, 5), (2, 3, 5, 1), (2, 5, 1, 3), (2, 5, 3, 1), (3, 1, 2, 5), (3, 1, 5, 2), (3, 2, 1, 5), (3, 2, 5, 1), (3, 5, 1, 2), (3, 5, 2, 1), (5, 1, 2, 3), (5, 1, 3, 2), (5, 2, 1, 3), (5, 2, 3, 1), (5, 3, 1, 2), (5, 3, 2, 1)]\n"
     ]
    }
   ],
   "source": [
    "import itertools\n",
    "print(list(itertools.permutations([1,2,3,5])))\n"
   ]
  },
  {
   "cell_type": "markdown",
   "metadata": {},
   "source": [
    "Q12. Write the Python program to convert a pair of values into a sorted\n",
    "unique array?\n",
    " \n",
    "    Original List- [ (1, 2), (3, 4), (1, 2), (5, 6), (7, 8), (1, 2), (3, 4), (3, 4), (7, 8), (9, 10) ]\n",
    "    Sorted Unique Data- [ 1, 2, 3, 4, 5, 6, 7, 8, 9, 10 ] \n"
   ]
  },
  {
   "cell_type": "code",
   "execution_count": 39,
   "metadata": {},
   "outputs": [
    {
     "name": "stdout",
     "output_type": "stream",
     "text": [
      "Sorted Unique Data  [1, 2, 3, 4, 5, 6, 7, 8, 9, 10]\n"
     ]
    }
   ],
   "source": [
    "lst=[ (1, 2), (3, 4), (1, 2), (5, 6), (7, 8), (1, 2), (3, 4), (3, 4), (7, 8), (9, 10) ]\n",
    "data=[]\n",
    "for i in lst:\n",
    "    for j in i:\n",
    "        data.append(j)\n",
    "\n",
    "print('Sorted Unique Data ',list(sorted(set(data))))"
   ]
  },
  {
   "cell_type": "markdown",
   "metadata": {},
   "source": [
    "## Great job!"
   ]
  }
 ],
 "metadata": {
  "kernelspec": {
   "display_name": "Python 3",
   "language": "python",
   "name": "python3"
  },
  "language_info": {
   "codemirror_mode": {
    "name": "ipython",
    "version": 3
   },
   "file_extension": ".py",
   "mimetype": "text/x-python",
   "name": "python",
   "nbconvert_exporter": "python",
   "pygments_lexer": "ipython3",
   "version": "3.7.3"
  }
 },
 "nbformat": 4,
 "nbformat_minor": 2
}
