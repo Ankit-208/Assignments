{
 "cells": [
  {
   "cell_type": "markdown",
   "metadata": {},
   "source": [
    "1.\tWhat is a classification problem?"
   ]
  },
  {
   "cell_type": "markdown",
   "metadata": {},
   "source": [
    "classification model is used to deal with qualitative data or categorical data.Algo used for classification predict the probability\n",
    "of particular class then based on probability it decide the class"
   ]
  },
  {
   "cell_type": "markdown",
   "metadata": {},
   "source": [
    "2.\tWhat is Logistic Regression?"
   ]
  },
  {
   "cell_type": "markdown",
   "metadata": {},
   "source": [
    "Logistic regression is basically a supervised classification algorithm\n",
    "it calculate probability of occurance of event, if it is grater than 50 then it classify it as one class else it classify as other.\n",
    "thus iyt is used for binary classification problem.\n",
    "it assume data set is linearly separable.\n",
    "it make use of sigmoid function in order to predict its probablity.\n"
   ]
  },
  {
   "cell_type": "markdown",
   "metadata": {},
   "source": [
    "3.\tWhy is the Sigmoid function used for Logistic Regression?"
   ]
  },
  {
   "cell_type": "markdown",
   "metadata": {},
   "source": [
    "Logistic regression assume dataset is linearly separable, so it draw straight line which is used to classify model in 2 category,\n",
    "it assume if value of y i less than 0.5 then it one category and greater than equal to 0.5 then another.and value of y should lie between 0 and 1\n",
    "what for any value of x we can get neagative as well as value more than 1, thus its assumption fail, hence to overcome this problem, value of x is passed to sigmoid function to obtain value between 0 and 1 .\n",
    "sigmoid function always give value between 0 and 1.\n",
    "hence sigmoid is used in Logistic function."
   ]
  },
  {
   "cell_type": "markdown",
   "metadata": {},
   "source": [
    "4.\tWhat is the cost function?"
   ]
  },
  {
   "cell_type": "markdown",
   "metadata": {},
   "source": [
    "Cost function is used to quantify error between predicted value and actual value or expected value.\n",
    "it is also known as loss function.\n",
    "we always try to minimise loss function in order to obtain better result\n",
    "cost function is calculated using gradient descent to obtain minium value\n",
    "\n",
    "cost function for logistic function is given by\n",
    "\n",
    "cost(p(x),y) = - log(p(x)) if y=1\n",
    "            \n",
    "            -log(1-p(x)) if y=0"
   ]
  },
  {
   "cell_type": "markdown",
   "metadata": {},
   "source": [
    "5.\tWhat is multiple Logistic Function?"
   ]
  },
  {
   "cell_type": "code",
   "execution_count": null,
   "metadata": {},
   "outputs": [],
   "source": [
    "logistic function which uses many independent variable or feature is find final class is known as multiple logistic function."
   ]
  },
  {
   "cell_type": "markdown",
   "metadata": {},
   "source": [
    "6.\tWhat is multilabel Logistic Regression?"
   ]
  },
  {
   "cell_type": "code",
   "execution_count": null,
   "metadata": {},
   "outputs": [],
   "source": [
    "if fincal output logistic reggression is more than 2 then it is termed as multilabel logistic regression."
   ]
  },
  {
   "cell_type": "markdown",
   "metadata": {},
   "source": [
    "7.\tHow does the Logistic Regression Algorithm learn?"
   ]
  },
  {
   "cell_type": "markdown",
   "metadata": {},
   "source": [
    "We can call a Logistic Regression a Linear Regression model but the Logistic Regression uses a more complex cost function, this cost function can be defined as the ‘Sigmoid function’ or also known as the ‘logistic function’ instead of a linear function.\n",
    "The hypothesis of logistic regression tends it to limit the cost function between 0 and 1. Therefore linear functions fail to represent it as it can have a value greater than 1 or less than 0 which is not possible as per the hypothesis of logistic regression.\n",
    "when we use linear regression cost function it leads to non-concave curve due to which its difficult to eah global minima while using gradient descent hence cost function is modifed ,it give concave curve leading to global minima\n",
    "using this we find minima using gradient descent and algo learn"
   ]
  },
  {
   "cell_type": "markdown",
   "metadata": {},
   "source": [
    "8.\tExplain the confusion matrix."
   ]
  },
  {
   "cell_type": "markdown",
   "metadata": {},
   "source": [
    "Confusion matrix is used to know performance of classifiction problem.\n",
    "consider binary classification, here confusion matrix is 2 by 2 matrix.\n",
    "where data value will populated based on actual value and predicted value count.\n",
    "it has four parameter true positive,false positive, false negative, true negative\n",
    "\n",
    "true positive (TP) = if prediction is positive and actual value is positive\n",
    "true negative (TN) = if prediction is negative and actual value is negative\n",
    "false positive (FP) = if prediction is positive but actual is negative\n",
    "false negative (FN) = if prediction is negative but actual is positive\n",
    "\n",
    "based on these value we calculate precision,recall,roc,auc,f1score which evaluate performance of model"
   ]
  },
  {
   "cell_type": "markdown",
   "metadata": {},
   "source": [
    "9.\tWhat is Accuracy?"
   ]
  },
  {
   "cell_type": "markdown",
   "metadata": {},
   "source": [
    "accuracy is measure used to find how well model classify the class\n",
    "\n",
    "   __Accuracy__= $ \\frac{ (TP+TN)}{(TP+TN+FP+FN)} $\n",
    "\n",
    "it can be said that it’s defined as the total number of correct classifications divided by the total number of classifications."
   ]
  },
  {
   "cell_type": "markdown",
   "metadata": {},
   "source": [
    "10.\tWhy there is a need for other metrics if ‘accuracy’ is already present?"
   ]
  },
  {
   "cell_type": "markdown",
   "metadata": {},
   "source": [
    "consider a case where we have to identify terriost among the all passenger boarding on flight.\n",
    "so now it very 1 in billion chance that person is terriost,\n",
    "so accuarcy of our model will be very high, since it can easliy classify non-terroist.\n",
    "but even if its accuracy is 99.99% this model cannot be considered as good model, since it fail to identify terriost.\n",
    "hence recall and presion are used to overcome this issue.\n",
    "accuracy simply fails if data is imbalance"
   ]
  },
  {
   "cell_type": "markdown",
   "metadata": {},
   "source": [
    "11.\tWhat are Recall and Precision? How do they differ?"
   ]
  },
  {
   "cell_type": "markdown",
   "metadata": {},
   "source": [
    "Recall is given by formula:\n",
    "__Recall__= $ \\frac{ (TP)}{(TP+FN)} $\n",
    "\n",
    "while precision is given by formula\n",
    "__Precision__= $ \\frac{ (TP)}{(TP+FP)} $\n",
    "\n",
    "recall is among actual postive,how many are predicted as postive\n",
    "precision is among predicted postive, how many are actually postive.\n",
    "\n",
    "recall is helpfull where FN is atmost important\n",
    "while precision is used where FP is more important\n",
    "but as precision increase recall decrease, there is trade-off between both"
   ]
  },
  {
   "cell_type": "markdown",
   "metadata": {},
   "source": [
    "12.\tHow does the tradeoff between recall and precision work?"
   ]
  },
  {
   "cell_type": "markdown",
   "metadata": {},
   "source": [
    "with an increase in the Recall, there is a drop in Precision of the model, so both are independent on each other.\n",
    "if one increaae othrt decrease, so we need to better calculation model hence we use f1 score"
   ]
  },
  {
   "cell_type": "markdown",
   "metadata": {},
   "source": [
    "13.\tExplain the F1 score."
   ]
  },
  {
   "cell_type": "markdown",
   "metadata": {},
   "source": [
    "f1 score is design to overcome trade-off of recall and precision ,it is harmonic mean of precision and recall\n",
    "\n",
    "The mathematical formula is:\n",
    "        F1 score= $ \\frac {2*((Precision*Recall)}{(Precision+Recall))} $"
   ]
  },
  {
   "cell_type": "markdown",
   "metadata": {},
   "source": [
    "14.\tWhat is specificity?"
   ]
  },
  {
   "cell_type": "markdown",
   "metadata": {},
   "source": [
    "specificity is gievn by formula\n",
    "\n",
    "specificity= $ \\frac {(TN)}{(TN/FP)} $\n",
    " \n",
    " it can be said that it quantifies the total number of negatives predicted by the model with respect to the total number of actual negative or non favorable outcomes"
   ]
  },
  {
   "cell_type": "markdown",
   "metadata": {},
   "source": [
    "15.\tExplain the significance of ROC."
   ]
  },
  {
   "cell_type": "markdown",
   "metadata": {},
   "source": [
    "ROC stands for receiver operating characteristic, it is used to decide Threshold, using which we can classify the data set.\n",
    "we plot graph of false-positive rate vs true postive rate, value for which false positve rate is minimum and true positive rate is more is chossen to decide threshold. "
   ]
  },
  {
   "cell_type": "markdown",
   "metadata": {},
   "source": [
    "16.\tWhat is AUC, and when is it used?\n"
   ]
  },
  {
   "cell_type": "markdown",
   "metadata": {},
   "source": [
    "AUC is stands for area under curve.\n",
    "different model have different roc, what how to decide best model here where we use AOC curve, model for which we have more area under curve is considered as better model. \n"
   ]
  },
  {
   "cell_type": "markdown",
   "metadata": {},
   "source": [
    "17.\tExplain the steps for Heroku deployment."
   ]
  },
  {
   "cell_type": "markdown",
   "metadata": {},
   "source": [
    "* After installing the Heroku CLI, Open a command prompt window and navigate to your project folder.\n",
    "* Type the command **heroku login** to login to your heroku account.\n",
    "* After logging in to Heroku, enter the command **heroku create** to create a heroku app. It will give you the URL of your Heroku app after successful creation. Or alternatively, you can go to the heroku website and create an app directly.\n",
    "* Before deploying the code to the Heroku cloud, we need to commit the changes to the git repository.\n",
    "* Type the command **git init** to initialize a local git repository.\n",
    "* Enter the command **git status** to see the uncommitted changes.\n",
    "* Enter the command **git add .** to add the uncommitted changes to the local repository.\n",
    "* Enter the command **git commit -am \"make it better\"** to commit the changes to the local repository.\n",
    "* Enter the command **git push heroku master** to push the code to the heroku cloud.\n",
    "* After deployment, heroku gives you the URL to hit the web API.\n",
    "* Once your application is deployed successfully, enter the command **heroku logs --tail** to see the logs.\n"
   ]
  },
  {
   "cell_type": "markdown",
   "metadata": {},
   "source": [
    "18.\tWhat difficulties did you face while deploying to Heroku?"
   ]
  },
  {
   "cell_type": "markdown",
   "metadata": {},
   "source": [
    "not as such"
   ]
  }
 ],
 "metadata": {
  "kernelspec": {
   "display_name": "Python 3",
   "language": "python",
   "name": "python3"
  },
  "language_info": {
   "codemirror_mode": {
    "name": "ipython",
    "version": 3
   },
   "file_extension": ".py",
   "mimetype": "text/x-python",
   "name": "python",
   "nbconvert_exporter": "python",
   "pygments_lexer": "ipython3",
   "version": "3.7.6"
  }
 },
 "nbformat": 4,
 "nbformat_minor": 2
}
