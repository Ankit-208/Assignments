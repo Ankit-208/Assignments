{
 "cells": [
  {
   "cell_type": "markdown",
   "metadata": {},
   "source": [
    "## Problem Statement"
   ]
  },
  {
   "cell_type": "markdown",
   "metadata": {},
   "source": [
    "Q.1 Write a Python Program to implement your own myreduce() function which works exactly like\n",
    "Python's built-in function reduce()\n"
   ]
  },
  {
   "cell_type": "code",
   "execution_count": 11,
   "metadata": {},
   "outputs": [
    {
     "name": "stdout",
     "output_type": "stream",
     "text": [
      "Sum of number--> 24\n"
     ]
    }
   ],
   "source": [
    "def myreduce(func,a):\n",
    "    result=a[0]\n",
    "    for i in a[1:]:\n",
    "        result=func(result,i)\n",
    "    return result\n",
    "    \n",
    "def mult(a,b):\n",
    "    return a*b\n",
    "\n",
    "print('Sum of number-->',myreduce(mult,range(1,5)))"
   ]
  },
  {
   "cell_type": "markdown",
   "metadata": {},
   "source": [
    "Q.2 Write a Python program to implement your own myfilter() function which works exactly like\n",
    "Python's built-in function filter()"
   ]
  },
  {
   "cell_type": "code",
   "execution_count": 16,
   "metadata": {},
   "outputs": [
    {
     "name": "stdout",
     "output_type": "stream",
     "text": [
      "even number--> [2, 4, 6, 8, 10, 12, 14, 16, 18]\n"
     ]
    }
   ],
   "source": [
    "def myfilter(func,a):\n",
    "    return [i for i in a if func(i)]\n",
    "    \n",
    "def even_odd(n):\n",
    "    return n%2==0\n",
    "   \n",
    "\n",
    "print('even number-->',myfilter(even_odd,range(1,20)))"
   ]
  },
  {
   "cell_type": "markdown",
   "metadata": {},
   "source": [
    "Q.3 Implement List comprehensions to produce the following lists.\n",
    "   Write List comprehensions to produce the following Lists\n",
    "   \n",
    "    ['A', 'C', 'A', 'D', 'G', 'I', ’L’, ‘ D’]\n",
    "   \n",
    "    ['x', 'xx', 'xxx', 'xxxx', 'y', 'yy', 'yyy', 'yyyy', 'z', 'zz', 'zzz', 'zzzz']\n",
    "\n",
    "    ['x', 'y', 'z', 'xx', 'yy', 'zz', 'xx', 'yy', 'zz', 'xxxx', 'yyyy', 'zzzz']\n",
    "    \n",
    "    [[2], [3], [4], [3], [4], [5], [4], [5], [6]]\n",
    "\n",
    "    [[2, 3, 4, 5], [3, 4, 5, 6], [4, 5, 6, 7], [5, 6, 7, 8]]\n",
    "\n",
    "    [(1, 1), (2, 1), (3, 1), (1, 2), (2, 2), (3, 2), (1, 3), (2, 3), (3, 3)]"
   ]
  },
  {
   "cell_type": "code",
   "execution_count": 35,
   "metadata": {},
   "outputs": [
    {
     "name": "stdout",
     "output_type": "stream",
     "text": [
      "['A', 'C', 'A', 'D', 'G', 'I', 'L', 'D']\n",
      "\n",
      "['x', 'xx', 'xxx', 'xxxx', 'y', 'yy', 'yyy', 'yyyy', 'z', 'zz', 'zzz', 'zzzz']\n",
      "\n",
      "['x', 'y', 'z', 'xx', 'yy', 'zz', 'xxx', 'yyy', 'zzz', 'xxxx', 'yyyy', 'zzzz']\n",
      "\n",
      "[[2], [3], [4], [3], [4], [5], [4], [5], [6]]\n",
      "\n",
      "[[2, 3, 4, 5], [3, 4, 5, 6], [4, 5, 6, 7], [5, 6, 7, 8]]\n",
      "\n",
      "[(1, 1), (2, 1), (3, 1), (1, 2), (2, 2), (3, 2), (1, 3), (2, 3), (3, 3)]\n"
     ]
    }
   ],
   "source": [
    "str='ACADGILD'\n",
    "print([i for i in str])\n",
    "print() #for new line\n",
    "\n",
    "str='xyz'\n",
    "print([i*j for i in str for j in range(1,5)])\n",
    "print() #for new line\n",
    "\n",
    "str='xyz'\n",
    "print([i*j for j in range(1,5) for i in str])\n",
    "print() #for new line\n",
    "\n",
    "str='234345456'\n",
    "print([[int(i)] for i in str])\n",
    "print() #for new line\n",
    "\n",
    "print([[i for i in range(2+j,6+j)] for j in range(0,4)])\n",
    "print() #for new line\n",
    "\n",
    "print([(i,j) for j in range(1,4) for i in range(1,4)])"
   ]
  },
  {
   "cell_type": "markdown",
   "metadata": {},
   "source": [
    "Q.4 Implement a function longestWord() that takes a list of words and returns the longest one."
   ]
  },
  {
   "cell_type": "code",
   "execution_count": 40,
   "metadata": {},
   "outputs": [
    {
     "name": "stdout",
     "output_type": "stream",
     "text": [
      "Hi good morning buddy how are you buddyyyyyyyy\n",
      "buddyyyyyyyy\n"
     ]
    }
   ],
   "source": [
    "def longestWord(str):\n",
    "    max_len=sorted({i:len(i) for i in str}.values())[-1]\n",
    "    for i in str:\n",
    "        if len(i)==max_len:\n",
    "            return i\n",
    "\n",
    "str=input().split(' ')\n",
    "print(longestWord(str))"
   ]
  },
  {
   "cell_type": "markdown",
   "metadata": {},
   "source": [
    "Q.5 Write a Python Program(with class concepts) to find the area of the triangle using the below\n",
    "formula.\n",
    "\n",
    "area = (s*(s-a)*(s-b)*(s-c)) ** 0.5\n",
    "\n",
    "Function to take the length of the sides of triangle from user should be defined in the parent\n",
    "class and function to calculate the area should be defined in subclass."
   ]
  },
  {
   "cell_type": "code",
   "execution_count": 46,
   "metadata": {},
   "outputs": [
    {
     "name": "stdout",
     "output_type": "stream",
     "text": [
      "4\n",
      "5\n",
      "6\n",
      "9.921567416492215\n"
     ]
    }
   ],
   "source": [
    "class Area():\n",
    "    def __init__(self):\n",
    "        self.a=int(input())\n",
    "        self.b=int(input())\n",
    "        self.c=int(input())\n",
    "        \n",
    "\n",
    "class Triangle(Area):\n",
    "    def __init__(self,*args):\n",
    "        super().__init__()\n",
    "        self.s=(self.a+self.b+self.c)/2\n",
    "    \n",
    "    def output(self):\n",
    "        return ((self.s*(self.s-self.a)*(self.s-self.b)*(self.s-self.c)) ** 0.5)\n",
    "       \n",
    "        \n",
    "t1=Triangle()\n",
    "print(t1.output())"
   ]
  },
  {
   "cell_type": "markdown",
   "metadata": {},
   "source": [
    "Q.6 Write a function filter_long_words() that takes a list of words and an integer n and returns the list\n",
    "of words that are longer than n."
   ]
  },
  {
   "cell_type": "code",
   "execution_count": 47,
   "metadata": {},
   "outputs": [
    {
     "name": "stdout",
     "output_type": "stream",
     "text": [
      "Enter words separted by commaankit,agarwal,python,data,science,machine,deep,learning\n",
      "Enter length to check5\n",
      "list of words longer than 5 ['agarwal', 'python', 'science', 'machine', 'learning']\n"
     ]
    }
   ],
   "source": [
    "def filter_long_words(str,n):\n",
    "    return [i for i in str if len(i)>n]\n",
    "        \n",
    "\n",
    "str=input('Enter words separted by comma').split(',')\n",
    "n=int(input('Enter length to check '))\n",
    "print('list of words longer than {}'.format(n),filter_long_words(str,n))"
   ]
  },
  {
   "cell_type": "markdown",
   "metadata": {},
   "source": [
    "Q.7 Write a Python program using function concept that maps list of words into a list of integers\n",
    "representing the lengths of the corresponding words.\n",
    "    \n",
    "    Hint: If a list [ ab,cde,erty] is passed on to the python function output should come as [2,3,4]\n",
    "    Here 2,3 and 4 are the lengths of the words in the list."
   ]
  },
  {
   "cell_type": "code",
   "execution_count": 48,
   "metadata": {},
   "outputs": [
    {
     "name": "stdout",
     "output_type": "stream",
     "text": [
      "Enter words separted by comma-->ankit,data,python,deep,learning\n",
      "output--> [5, 4, 6, 4, 8]\n"
     ]
    }
   ],
   "source": [
    "def word_count(str):\n",
    "    return [len(i) for i in str]\n",
    "\n",
    "str=input('Enter words separted by comma-->').split(',')\n",
    "print('output-->',word_count(str))"
   ]
  },
  {
   "cell_type": "markdown",
   "metadata": {},
   "source": [
    "Q.8 Write a Python function which takes a character (i.e. a string of length 1) and returns True if it is\n",
    "a vowel, False otherwise."
   ]
  },
  {
   "cell_type": "code",
   "execution_count": 50,
   "metadata": {},
   "outputs": [
    {
     "name": "stdout",
     "output_type": "stream",
     "text": [
      "enter char value-->b\n",
      "False\n"
     ]
    }
   ],
   "source": [
    "def check_vowel(char):\n",
    "    return char.lower() in 'aeiou'\n",
    "\n",
    "char=input('enter char value-->')\n",
    "print(check_vowel(char))"
   ]
  },
  {
   "cell_type": "markdown",
   "metadata": {},
   "source": [
    "## Great job!"
   ]
  }
 ],
 "metadata": {
  "kernelspec": {
   "display_name": "Python 3",
   "language": "python",
   "name": "python3"
  },
  "language_info": {
   "codemirror_mode": {
    "name": "ipython",
    "version": 3
   },
   "file_extension": ".py",
   "mimetype": "text/x-python",
   "name": "python",
   "nbconvert_exporter": "python",
   "pygments_lexer": "ipython3",
   "version": "3.7.3"
  }
 },
 "nbformat": 4,
 "nbformat_minor": 2
}
