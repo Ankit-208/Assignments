{
 "cells": [
  {
   "cell_type": "markdown",
   "metadata": {},
   "source": [
    "# Assignment 4 Questions"
   ]
  },
  {
   "cell_type": "markdown",
   "metadata": {},
   "source": [
    "## Problem Statement"
   ]
  },
  {
   "cell_type": "markdown",
   "metadata": {},
   "source": [
    "Q.1 Given a sequence of n values x1, x2, ..., xn and a window size k>0, the k-th moving average of\n",
    "the given sequence is defined as follows:\n",
    "\n",
    "The moving average sequence has n-k+1 elements as shown below.\n",
    "The moving averages with k=4 of a ten-value sequence (n=10) is shown below\n",
    "\n",
    "    i 1 2 3 4 5 6 7 8 9 10\n",
    "    ===== == == == == == == == == == ==\n",
    "    Input 10 20 30 40 50 60 70 80 90 100\n",
    "    y1 25 = (10+20+30+40)/4\n",
    "    y2 35 = (20+30+40+50)/4\n",
    "    y3 45 = (30+40+50+60)/4\n",
    "    y4 55 = (40+50+60+70)/4\n",
    "    y5 65 = (50+60+70+80)/4\n",
    "    y6 75 = (60+70+80+90)/4\n",
    "    y7 85 = (70+80+90+100)/4\n",
    "\n",
    "Thus, the moving average sequence has n-k+1=10-4+1=7 values.\n",
    "\n",
    "Write a function to find moving average in an array over a window:\n",
    "\n",
    "Test it over [3, 5, 7, 2, 8, 10, 11, 65, 72, 81, 99, 100, 150] and window of 3."
   ]
  },
  {
   "cell_type": "code",
   "execution_count": 3,
   "metadata": {},
   "outputs": [
    {
     "name": "stdout",
     "output_type": "stream",
     "text": [
      "y1 5.0\n",
      "y2 9.666666666666666\n",
      "y3 15.333333333333334\n",
      "y4 22.0\n",
      "y5 31.666666666666668\n",
      "y6 60.333333333333336\n",
      "y7 109.66666666666667\n",
      "y8 182.33333333333334\n",
      "y9 266.3333333333333\n",
      "y10 359.6666666666667\n",
      "y11 476.0\n"
     ]
    }
   ],
   "source": [
    "data=[3, 5, 7, 2, 8, 10, 11, 65, 72, 81, 99, 100, 150]\n",
    "k=3\n",
    "seq_count=len(data)-k+1\n",
    "avg=0\n",
    "for i in range(seq_count):\n",
    "    for j in range(k):\n",
    "        avg+=data[i+j]\n",
    "    print('y{}'.format(i+1),avg/k)    "
   ]
  },
  {
   "cell_type": "markdown",
   "metadata": {},
   "source": [
    "Q.2 How-to-count-distance-to-the-previous-zero\n",
    "For each value, count the difference back to the previous zero (or the start of the Series,\n",
    "whichever is closer)\n",
    "create a new column 'Y'\n",
    "Consider a DataFrame df where there is an integer column 'X'\n",
    "    \n",
    "    import pandas as pd\n",
    "    df = pd.DataFrame({'X': [7, 2, 0, 3, 4, 2, 5, 0, 3, 4]})"
   ]
  },
  {
   "cell_type": "code",
   "execution_count": 9,
   "metadata": {},
   "outputs": [
    {
     "data": {
      "text/html": [
       "<div>\n",
       "<style scoped>\n",
       "    .dataframe tbody tr th:only-of-type {\n",
       "        vertical-align: middle;\n",
       "    }\n",
       "\n",
       "    .dataframe tbody tr th {\n",
       "        vertical-align: top;\n",
       "    }\n",
       "\n",
       "    .dataframe thead th {\n",
       "        text-align: right;\n",
       "    }\n",
       "</style>\n",
       "<table border=\"1\" class=\"dataframe\">\n",
       "  <thead>\n",
       "    <tr style=\"text-align: right;\">\n",
       "      <th></th>\n",
       "      <th>X</th>\n",
       "      <th>Y</th>\n",
       "    </tr>\n",
       "  </thead>\n",
       "  <tbody>\n",
       "    <tr>\n",
       "      <th>0</th>\n",
       "      <td>7</td>\n",
       "      <td>1</td>\n",
       "    </tr>\n",
       "    <tr>\n",
       "      <th>1</th>\n",
       "      <td>2</td>\n",
       "      <td>2</td>\n",
       "    </tr>\n",
       "    <tr>\n",
       "      <th>2</th>\n",
       "      <td>0</td>\n",
       "      <td>0</td>\n",
       "    </tr>\n",
       "    <tr>\n",
       "      <th>3</th>\n",
       "      <td>3</td>\n",
       "      <td>1</td>\n",
       "    </tr>\n",
       "    <tr>\n",
       "      <th>4</th>\n",
       "      <td>4</td>\n",
       "      <td>2</td>\n",
       "    </tr>\n",
       "    <tr>\n",
       "      <th>5</th>\n",
       "      <td>2</td>\n",
       "      <td>3</td>\n",
       "    </tr>\n",
       "    <tr>\n",
       "      <th>6</th>\n",
       "      <td>5</td>\n",
       "      <td>4</td>\n",
       "    </tr>\n",
       "    <tr>\n",
       "      <th>7</th>\n",
       "      <td>0</td>\n",
       "      <td>0</td>\n",
       "    </tr>\n",
       "    <tr>\n",
       "      <th>8</th>\n",
       "      <td>3</td>\n",
       "      <td>1</td>\n",
       "    </tr>\n",
       "    <tr>\n",
       "      <th>9</th>\n",
       "      <td>4</td>\n",
       "      <td>2</td>\n",
       "    </tr>\n",
       "  </tbody>\n",
       "</table>\n",
       "</div>"
      ],
      "text/plain": [
       "   X  Y\n",
       "0  7  1\n",
       "1  2  2\n",
       "2  0  0\n",
       "3  3  1\n",
       "4  4  2\n",
       "5  2  3\n",
       "6  5  4\n",
       "7  0  0\n",
       "8  3  1\n",
       "9  4  2"
      ]
     },
     "execution_count": 9,
     "metadata": {},
     "output_type": "execute_result"
    }
   ],
   "source": [
    "import pandas as pd\n",
    "df = pd.DataFrame({'X': [7, 2, 0, 3, 4, 2, 5, 0, 3, 4]})\n",
    "data=list(df['X'])\n",
    "result=[]\n",
    "pos=0\n",
    "for i in data:\n",
    "    if i==0:\n",
    "        result.append(0)\n",
    "        pos=0\n",
    "    else:\n",
    "        pos+=1\n",
    "        result.append(pos)\n",
    "df['Y']=result\n",
    "df"
   ]
  },
  {
   "cell_type": "markdown",
   "metadata": {},
   "source": [
    "Q.3 Create a DatetimeIndex that contains each business day of 2015 and use it to index a Series of\n",
    "random numbers."
   ]
  },
  {
   "cell_type": "code",
   "execution_count": 26,
   "metadata": {},
   "outputs": [
    {
     "data": {
      "text/plain": [
       "2015-01-01   -1.585965\n",
       "2015-01-02    0.723031\n",
       "2015-01-05   -1.195897\n",
       "2015-01-06    1.385600\n",
       "2015-01-07   -0.215271\n",
       "2015-01-08   -0.034601\n",
       "2015-01-09    1.447789\n",
       "2015-01-12   -0.279664\n",
       "2015-01-13   -0.653294\n",
       "2015-01-14   -1.971497\n",
       "2015-01-15   -0.297901\n",
       "2015-01-16   -1.923747\n",
       "2015-01-19   -0.310617\n",
       "2015-01-20    1.511046\n",
       "2015-01-21   -0.598327\n",
       "2015-01-22   -1.822681\n",
       "2015-01-23    0.363636\n",
       "2015-01-26    0.256526\n",
       "2015-01-27    0.051563\n",
       "2015-01-28   -0.173428\n",
       "2015-01-29    1.935270\n",
       "2015-01-30   -1.134715\n",
       "2015-02-02    0.351733\n",
       "2015-02-03   -0.428685\n",
       "2015-02-04    1.678312\n",
       "2015-02-05    0.230201\n",
       "2015-02-06   -0.909422\n",
       "2015-02-09    0.579002\n",
       "2015-02-10   -0.678994\n",
       "2015-02-11   -0.212723\n",
       "                ...   \n",
       "2015-11-20   -0.169436\n",
       "2015-11-23    2.815846\n",
       "2015-11-24    1.003735\n",
       "2015-11-25   -1.292834\n",
       "2015-11-26    2.229826\n",
       "2015-11-27   -2.303676\n",
       "2015-11-30    0.047949\n",
       "2015-12-01   -1.082781\n",
       "2015-12-02    2.229238\n",
       "2015-12-03   -0.144833\n",
       "2015-12-04   -0.000453\n",
       "2015-12-07   -0.412072\n",
       "2015-12-08   -0.410512\n",
       "2015-12-09    1.859308\n",
       "2015-12-10   -0.622231\n",
       "2015-12-11    0.857006\n",
       "2015-12-14   -0.807758\n",
       "2015-12-15   -1.100347\n",
       "2015-12-16    1.034354\n",
       "2015-12-17    0.180622\n",
       "2015-12-18    1.462688\n",
       "2015-12-21    1.094866\n",
       "2015-12-22   -1.367076\n",
       "2015-12-23   -1.421970\n",
       "2015-12-24    0.763338\n",
       "2015-12-25    0.150555\n",
       "2015-12-28    0.415520\n",
       "2015-12-29   -0.481423\n",
       "2015-12-30    0.006795\n",
       "2015-12-31   -1.775371\n",
       "Freq: B, Length: 261, dtype: float64"
      ]
     },
     "execution_count": 26,
     "metadata": {},
     "output_type": "execute_result"
    }
   ],
   "source": [
    "import pandas as pd\n",
    "import datetime\n",
    "import numpy as np\n",
    "\n",
    "DatetimeIndex=pd.date_range('2015-01-01','2015-12-31',freq='B')\n",
    "\n",
    "df=pd.Series(np.random.randn(len( DatetimeIndex)),index= DatetimeIndex)\n",
    "df"
   ]
  },
  {
   "cell_type": "markdown",
   "metadata": {},
   "source": [
    "Q.4 "
   ]
  }
 ],
 "metadata": {
  "kernelspec": {
   "display_name": "Python 3",
   "language": "python",
   "name": "python3"
  },
  "language_info": {
   "codemirror_mode": {
    "name": "ipython",
    "version": 3
   },
   "file_extension": ".py",
   "mimetype": "text/x-python",
   "name": "python",
   "nbconvert_exporter": "python",
   "pygments_lexer": "ipython3",
   "version": "3.7.3"
  }
 },
 "nbformat": 4,
 "nbformat_minor": 2
}
